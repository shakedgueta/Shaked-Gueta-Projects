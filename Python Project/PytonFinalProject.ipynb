{
 "cells": [
  {
   "cell_type": "markdown",
   "id": "136f2c9d-3962-4ba2-a898-d5b778282fef",
   "metadata": {},
   "source": [
    "# sleep health and lifestyle dataset\n",
    "## Shaked gueta, Bar isachr and Shiraz levy python project"
   ]
  },
  {
   "cell_type": "markdown",
   "id": "35209db5-d8ea-4b53-bf94-b4a2b0f60f0c",
   "metadata": {},
   "source": [
    "## Project Goal"
   ]
  },
  {
   "cell_type": "markdown",
   "id": "1a47368d-73eb-41a8-b67e-71c83096610a",
   "metadata": {},
   "source": [
    "The goal of this project is to analyze the relationship between lifestyle and heart health with sleep quality and duration and to identify factors that may influence the occurrence of sleep disorders such as insomnia and sleep apnea.\n",
    "Through this analysis, we aim to understand which lifestyle and health-related variables are associated with healthy or poor sleep patterns and how this data can be used to promote health and improve quality of life."
   ]
  },
  {
   "cell_type": "markdown",
   "id": "a2f1bffe-1df4-4995-864d-11938c792687",
   "metadata": {},
   "source": [
    "## Analysis Topic"
   ]
  },
  {
   "cell_type": "markdown",
   "id": "f781fb47-9514-40ae-b8b4-89f53074efa1",
   "metadata": {},
   "source": [
    "Sleep health and lifestyle – understanding the relationships between variables such as physical activity, mental stress, BMI, daily steps, heart rate and blood pressure – and their connection to sleep quality, sleep duration, and sleep disorders."
   ]
  },
  {
   "cell_type": "markdown",
   "id": "d9f09612-971a-4649-bb15-1899b0115dc9",
   "metadata": {},
   "source": [
    "## Research Questions"
   ]
  },
  {
   "cell_type": "markdown",
   "id": "d520fbb8-f519-44d3-aa4f-16cbed413d3b",
   "metadata": {},
   "source": [
    "•\tIs there a relationship between sleep duration and sleep quality?\n",
    "\n",
    "•\tIs there a relationship between stress levels and sleep quality?\n",
    "\n",
    "•\tDo people with higher physical activity levels suffer less from sleep disorders?\n",
    "\n",
    "•\tIs there a relationship between BMI category and type of sleep disorder (if any)?\n",
    "\n",
    "•\tDo heart rate and blood pressure affect sleep quality?\n",
    "\n",
    "•\tAre there differences between males and females in sleep quality or sleep disorder frequency?"
   ]
  },
  {
   "cell_type": "markdown",
   "id": "201d1b87-6bf0-4817-84a1-74d8638e6645",
   "metadata": {},
   "source": [
    "## Methods"
   ]
  },
  {
   "cell_type": "markdown",
   "id": "bec8d66f-a083-4969-8151-3e14c483e5c1",
   "metadata": {},
   "source": [
    "•\tUsing Pandas & NumPy for data manipulation.\n",
    "\n",
    "•\tUsing Matplotlib & Seaborn for visualizing trends.\n",
    "\n",
    "•\tPerforming statistical and categorical analysis on my listening habits."
   ]
  },
  {
   "cell_type": "code",
   "execution_count": 1,
   "id": "b4f19a95-73e1-4bf9-b27d-87d10e288eb9",
   "metadata": {},
   "outputs": [],
   "source": [
    "import pandas as pd\n",
    "import seaborn as sb\n",
    "import matplotlib.pyplot as plt"
   ]
  },
  {
   "cell_type": "code",
   "execution_count": 2,
   "id": "d46ab6ab-199a-4cd7-a231-280a902509fa",
   "metadata": {},
   "outputs": [],
   "source": [
    "df = pd.read_csv('sleep_health_and_lifestyle_dataset.csv')"
   ]
  },
  {
   "cell_type": "code",
   "execution_count": 3,
   "id": "ce920d15-b75c-4e6f-9e03-d77fae8a9854",
   "metadata": {},
   "outputs": [
    {
     "data": {
      "text/html": [
       "<div>\n",
       "<style scoped>\n",
       "    .dataframe tbody tr th:only-of-type {\n",
       "        vertical-align: middle;\n",
       "    }\n",
       "\n",
       "    .dataframe tbody tr th {\n",
       "        vertical-align: top;\n",
       "    }\n",
       "\n",
       "    .dataframe thead th {\n",
       "        text-align: right;\n",
       "    }\n",
       "</style>\n",
       "<table border=\"1\" class=\"dataframe\">\n",
       "  <thead>\n",
       "    <tr style=\"text-align: right;\">\n",
       "      <th></th>\n",
       "      <th>Person ID</th>\n",
       "      <th>Gender</th>\n",
       "      <th>Age</th>\n",
       "      <th>Occupation</th>\n",
       "      <th>Sleep Duration</th>\n",
       "      <th>Quality of Sleep</th>\n",
       "      <th>Physical Activity Level</th>\n",
       "      <th>Stress Level</th>\n",
       "      <th>BMI Category</th>\n",
       "      <th>Blood Pressure</th>\n",
       "      <th>Heart Rate</th>\n",
       "      <th>Daily Steps</th>\n",
       "      <th>Sleep Disorder</th>\n",
       "    </tr>\n",
       "  </thead>\n",
       "  <tbody>\n",
       "    <tr>\n",
       "      <th>0</th>\n",
       "      <td>1</td>\n",
       "      <td>Male</td>\n",
       "      <td>27</td>\n",
       "      <td>Software Engineer</td>\n",
       "      <td>6.1</td>\n",
       "      <td>6</td>\n",
       "      <td>42</td>\n",
       "      <td>6</td>\n",
       "      <td>Overweight</td>\n",
       "      <td>126/83</td>\n",
       "      <td>77</td>\n",
       "      <td>4200</td>\n",
       "      <td>NaN</td>\n",
       "    </tr>\n",
       "    <tr>\n",
       "      <th>1</th>\n",
       "      <td>2</td>\n",
       "      <td>Male</td>\n",
       "      <td>28</td>\n",
       "      <td>Doctor</td>\n",
       "      <td>6.2</td>\n",
       "      <td>6</td>\n",
       "      <td>60</td>\n",
       "      <td>8</td>\n",
       "      <td>Normal</td>\n",
       "      <td>125/80</td>\n",
       "      <td>75</td>\n",
       "      <td>10000</td>\n",
       "      <td>NaN</td>\n",
       "    </tr>\n",
       "    <tr>\n",
       "      <th>2</th>\n",
       "      <td>3</td>\n",
       "      <td>Male</td>\n",
       "      <td>28</td>\n",
       "      <td>Doctor</td>\n",
       "      <td>6.2</td>\n",
       "      <td>6</td>\n",
       "      <td>60</td>\n",
       "      <td>8</td>\n",
       "      <td>Normal</td>\n",
       "      <td>125/80</td>\n",
       "      <td>75</td>\n",
       "      <td>10000</td>\n",
       "      <td>NaN</td>\n",
       "    </tr>\n",
       "    <tr>\n",
       "      <th>3</th>\n",
       "      <td>4</td>\n",
       "      <td>Male</td>\n",
       "      <td>28</td>\n",
       "      <td>Sales Representative</td>\n",
       "      <td>5.9</td>\n",
       "      <td>4</td>\n",
       "      <td>30</td>\n",
       "      <td>8</td>\n",
       "      <td>Obese</td>\n",
       "      <td>140/90</td>\n",
       "      <td>85</td>\n",
       "      <td>3000</td>\n",
       "      <td>Sleep Apnea</td>\n",
       "    </tr>\n",
       "    <tr>\n",
       "      <th>4</th>\n",
       "      <td>5</td>\n",
       "      <td>Male</td>\n",
       "      <td>28</td>\n",
       "      <td>Sales Representative</td>\n",
       "      <td>5.9</td>\n",
       "      <td>4</td>\n",
       "      <td>30</td>\n",
       "      <td>8</td>\n",
       "      <td>Obese</td>\n",
       "      <td>140/90</td>\n",
       "      <td>85</td>\n",
       "      <td>3000</td>\n",
       "      <td>Sleep Apnea</td>\n",
       "    </tr>\n",
       "  </tbody>\n",
       "</table>\n",
       "</div>"
      ],
      "text/plain": [
       "   Person ID Gender  Age            Occupation  Sleep Duration  \\\n",
       "0          1   Male   27     Software Engineer             6.1   \n",
       "1          2   Male   28                Doctor             6.2   \n",
       "2          3   Male   28                Doctor             6.2   \n",
       "3          4   Male   28  Sales Representative             5.9   \n",
       "4          5   Male   28  Sales Representative             5.9   \n",
       "\n",
       "   Quality of Sleep  Physical Activity Level  Stress Level BMI Category  \\\n",
       "0                 6                       42             6   Overweight   \n",
       "1                 6                       60             8       Normal   \n",
       "2                 6                       60             8       Normal   \n",
       "3                 4                       30             8        Obese   \n",
       "4                 4                       30             8        Obese   \n",
       "\n",
       "  Blood Pressure  Heart Rate  Daily Steps Sleep Disorder  \n",
       "0         126/83          77         4200            NaN  \n",
       "1         125/80          75        10000            NaN  \n",
       "2         125/80          75        10000            NaN  \n",
       "3         140/90          85         3000    Sleep Apnea  \n",
       "4         140/90          85         3000    Sleep Apnea  "
      ]
     },
     "execution_count": 3,
     "metadata": {},
     "output_type": "execute_result"
    }
   ],
   "source": [
    "df.head()"
   ]
  },
  {
   "cell_type": "code",
   "execution_count": 4,
   "id": "11d0c8d8-d3ce-413d-9dd4-991edcc12961",
   "metadata": {},
   "outputs": [
    {
     "name": "stdout",
     "output_type": "stream",
     "text": [
      "<class 'pandas.core.frame.DataFrame'>\n",
      "RangeIndex: 374 entries, 0 to 373\n",
      "Data columns (total 13 columns):\n",
      " #   Column                   Non-Null Count  Dtype  \n",
      "---  ------                   --------------  -----  \n",
      " 0   Person ID                374 non-null    int64  \n",
      " 1   Gender                   374 non-null    object \n",
      " 2   Age                      374 non-null    int64  \n",
      " 3   Occupation               374 non-null    object \n",
      " 4   Sleep Duration           374 non-null    float64\n",
      " 5   Quality of Sleep         374 non-null    int64  \n",
      " 6   Physical Activity Level  374 non-null    int64  \n",
      " 7   Stress Level             374 non-null    int64  \n",
      " 8   BMI Category             374 non-null    object \n",
      " 9   Blood Pressure           374 non-null    object \n",
      " 10  Heart Rate               374 non-null    int64  \n",
      " 11  Daily Steps              374 non-null    int64  \n",
      " 12  Sleep Disorder           155 non-null    object \n",
      "dtypes: float64(1), int64(7), object(5)\n",
      "memory usage: 38.1+ KB\n"
     ]
    }
   ],
   "source": [
    "df.info()"
   ]
  },
  {
   "cell_type": "code",
   "execution_count": 5,
   "id": "9b56f62b-76f1-4363-88fc-d617242453e6",
   "metadata": {
    "scrolled": true
   },
   "outputs": [
    {
     "data": {
      "text/html": [
       "<div>\n",
       "<style scoped>\n",
       "    .dataframe tbody tr th:only-of-type {\n",
       "        vertical-align: middle;\n",
       "    }\n",
       "\n",
       "    .dataframe tbody tr th {\n",
       "        vertical-align: top;\n",
       "    }\n",
       "\n",
       "    .dataframe thead th {\n",
       "        text-align: right;\n",
       "    }\n",
       "</style>\n",
       "<table border=\"1\" class=\"dataframe\">\n",
       "  <thead>\n",
       "    <tr style=\"text-align: right;\">\n",
       "      <th></th>\n",
       "      <th>Person ID</th>\n",
       "      <th>Age</th>\n",
       "      <th>Sleep Duration</th>\n",
       "      <th>Quality of Sleep</th>\n",
       "      <th>Physical Activity Level</th>\n",
       "      <th>Stress Level</th>\n",
       "      <th>Heart Rate</th>\n",
       "      <th>Daily Steps</th>\n",
       "    </tr>\n",
       "  </thead>\n",
       "  <tbody>\n",
       "    <tr>\n",
       "      <th>count</th>\n",
       "      <td>374.000000</td>\n",
       "      <td>374.000000</td>\n",
       "      <td>374.000000</td>\n",
       "      <td>374.000000</td>\n",
       "      <td>374.000000</td>\n",
       "      <td>374.000000</td>\n",
       "      <td>374.000000</td>\n",
       "      <td>374.000000</td>\n",
       "    </tr>\n",
       "    <tr>\n",
       "      <th>mean</th>\n",
       "      <td>187.500000</td>\n",
       "      <td>42.184492</td>\n",
       "      <td>7.132086</td>\n",
       "      <td>7.312834</td>\n",
       "      <td>59.171123</td>\n",
       "      <td>5.385027</td>\n",
       "      <td>70.165775</td>\n",
       "      <td>6816.844920</td>\n",
       "    </tr>\n",
       "    <tr>\n",
       "      <th>std</th>\n",
       "      <td>108.108742</td>\n",
       "      <td>8.673133</td>\n",
       "      <td>0.795657</td>\n",
       "      <td>1.196956</td>\n",
       "      <td>20.830804</td>\n",
       "      <td>1.774526</td>\n",
       "      <td>4.135676</td>\n",
       "      <td>1617.915679</td>\n",
       "    </tr>\n",
       "    <tr>\n",
       "      <th>min</th>\n",
       "      <td>1.000000</td>\n",
       "      <td>27.000000</td>\n",
       "      <td>5.800000</td>\n",
       "      <td>4.000000</td>\n",
       "      <td>30.000000</td>\n",
       "      <td>3.000000</td>\n",
       "      <td>65.000000</td>\n",
       "      <td>3000.000000</td>\n",
       "    </tr>\n",
       "    <tr>\n",
       "      <th>25%</th>\n",
       "      <td>94.250000</td>\n",
       "      <td>35.250000</td>\n",
       "      <td>6.400000</td>\n",
       "      <td>6.000000</td>\n",
       "      <td>45.000000</td>\n",
       "      <td>4.000000</td>\n",
       "      <td>68.000000</td>\n",
       "      <td>5600.000000</td>\n",
       "    </tr>\n",
       "    <tr>\n",
       "      <th>50%</th>\n",
       "      <td>187.500000</td>\n",
       "      <td>43.000000</td>\n",
       "      <td>7.200000</td>\n",
       "      <td>7.000000</td>\n",
       "      <td>60.000000</td>\n",
       "      <td>5.000000</td>\n",
       "      <td>70.000000</td>\n",
       "      <td>7000.000000</td>\n",
       "    </tr>\n",
       "    <tr>\n",
       "      <th>75%</th>\n",
       "      <td>280.750000</td>\n",
       "      <td>50.000000</td>\n",
       "      <td>7.800000</td>\n",
       "      <td>8.000000</td>\n",
       "      <td>75.000000</td>\n",
       "      <td>7.000000</td>\n",
       "      <td>72.000000</td>\n",
       "      <td>8000.000000</td>\n",
       "    </tr>\n",
       "    <tr>\n",
       "      <th>max</th>\n",
       "      <td>374.000000</td>\n",
       "      <td>59.000000</td>\n",
       "      <td>8.500000</td>\n",
       "      <td>9.000000</td>\n",
       "      <td>90.000000</td>\n",
       "      <td>8.000000</td>\n",
       "      <td>86.000000</td>\n",
       "      <td>10000.000000</td>\n",
       "    </tr>\n",
       "  </tbody>\n",
       "</table>\n",
       "</div>"
      ],
      "text/plain": [
       "        Person ID         Age  Sleep Duration  Quality of Sleep  \\\n",
       "count  374.000000  374.000000      374.000000        374.000000   \n",
       "mean   187.500000   42.184492        7.132086          7.312834   \n",
       "std    108.108742    8.673133        0.795657          1.196956   \n",
       "min      1.000000   27.000000        5.800000          4.000000   \n",
       "25%     94.250000   35.250000        6.400000          6.000000   \n",
       "50%    187.500000   43.000000        7.200000          7.000000   \n",
       "75%    280.750000   50.000000        7.800000          8.000000   \n",
       "max    374.000000   59.000000        8.500000          9.000000   \n",
       "\n",
       "       Physical Activity Level  Stress Level  Heart Rate   Daily Steps  \n",
       "count               374.000000    374.000000  374.000000    374.000000  \n",
       "mean                 59.171123      5.385027   70.165775   6816.844920  \n",
       "std                  20.830804      1.774526    4.135676   1617.915679  \n",
       "min                  30.000000      3.000000   65.000000   3000.000000  \n",
       "25%                  45.000000      4.000000   68.000000   5600.000000  \n",
       "50%                  60.000000      5.000000   70.000000   7000.000000  \n",
       "75%                  75.000000      7.000000   72.000000   8000.000000  \n",
       "max                  90.000000      8.000000   86.000000  10000.000000  "
      ]
     },
     "execution_count": 5,
     "metadata": {},
     "output_type": "execute_result"
    }
   ],
   "source": [
    "df.describe()"
   ]
  },
  {
   "cell_type": "markdown",
   "id": "2fcbd527-18eb-420f-843e-e09890266363",
   "metadata": {},
   "source": [
    "###### מהפלט של df.describe() ניתן לראות כי לא נמצאו ערכים חריגים או חסרים בנתונים"
   ]
  },
  {
   "cell_type": "code",
   "execution_count": 6,
   "id": "3f522a42-6f11-4105-9ec2-bcb682a747d9",
   "metadata": {},
   "outputs": [],
   "source": [
    "#טיפול בערכים חסרים\n",
    "df['Sleep Disorder'] = df['Sleep Disorder'].fillna('None')"
   ]
  },
  {
   "cell_type": "code",
   "execution_count": 7,
   "id": "202f0017-9d78-42fb-8849-c6a94d5d7d47",
   "metadata": {},
   "outputs": [],
   "source": [
    "#איחוד ערכים שונים ל- NORMAL\n",
    "df['BMI Category'] = df['BMI Category'].replace({\n",
    "    'NormalWeight': 'Normal',\n",
    "    'Normal Weight': 'Normal'\n",
    "})"
   ]
  },
  {
   "cell_type": "markdown",
   "id": "015d7de5-07d9-4674-900e-63c93091bb87",
   "metadata": {},
   "source": [
    "_______________________________________________________________________________________________________________________________________________________"
   ]
  },
  {
   "cell_type": "markdown",
   "id": "df515e8f-267e-4a1f-a87a-f5f5220ce5ba",
   "metadata": {},
   "source": [
    "##### Average Sleep Quality by Stress Level"
   ]
  },
  {
   "cell_type": "code",
   "execution_count": 8,
   "id": "06fa9c99-addf-455f-a977-6d24fa9dc75e",
   "metadata": {},
   "outputs": [
    {
     "data": {
      "text/plain": [
       "Stress Level\n",
       "3    8.971831\n",
       "4    7.671429\n",
       "5    7.895522\n",
       "6    7.000000\n",
       "7    6.000000\n",
       "8    5.857143\n",
       "Name: Quality of Sleep, dtype: float64"
      ]
     },
     "execution_count": 8,
     "metadata": {},
     "output_type": "execute_result"
    }
   ],
   "source": [
    "#ממוצע איכות שינה לפי רמות סטרס\n",
    "df.groupby('Stress Level')['Quality of Sleep'].mean().sort_index()"
   ]
  },
  {
   "cell_type": "markdown",
   "id": "69c65dac-f550-450a-8ef4-5a7ac20cdbe1",
   "metadata": {},
   "source": [
    "_______________________________________________________________________________________________________________________________________________________"
   ]
  },
  {
   "cell_type": "markdown",
   "id": "55ce26e1-41f7-48a4-812a-6c5afed44b3d",
   "metadata": {},
   "source": [
    "##### Comparison of Sleep Duration by Gender"
   ]
  },
  {
   "cell_type": "code",
   "execution_count": 9,
   "id": "b11a6224-2225-493b-af24-28ce7cc136ec",
   "metadata": {},
   "outputs": [
    {
     "data": {
      "text/plain": [
       "Gender\n",
       "Female    7.229730\n",
       "Male      7.036508\n",
       "Name: Sleep Duration, dtype: float64"
      ]
     },
     "execution_count": 9,
     "metadata": {},
     "output_type": "execute_result"
    }
   ],
   "source": [
    "#השוואת משך שינה לפי מין\n",
    "df.groupby('Gender')['Sleep Duration'].mean()"
   ]
  },
  {
   "cell_type": "markdown",
   "id": "c61eff07-b0fe-403d-934d-392cd195448d",
   "metadata": {},
   "source": [
    "_______________________________________________________________________________________________________________________________________________________"
   ]
  },
  {
   "cell_type": "markdown",
   "id": "0ee2612d-39b0-4c04-a792-2078988ba52b",
   "metadata": {},
   "source": [
    "##### Average Sleep Quality by Age Group"
   ]
  },
  {
   "cell_type": "code",
   "execution_count": 10,
   "id": "68daf82e-5c7a-4930-b501-3246e21988a7",
   "metadata": {},
   "outputs": [
    {
     "data": {
      "text/plain": [
       "Age Group\n",
       "צעיר     6.156250\n",
       "בוגר     7.163793\n",
       "מבוגר    7.963636\n",
       "Name: Quality of Sleep, dtype: float64"
      ]
     },
     "execution_count": 10,
     "metadata": {},
     "output_type": "execute_result"
    }
   ],
   "source": [
    "#ממוצע איכות שינה לפי קבוצות גיל\n",
    "bins = [18, 30, 45, 60]\n",
    "labels = ['צעיר', 'בוגר', 'מבוגר']\n",
    "df['Age Group'] = pd.cut(df['Age'], bins=bins, labels=labels)\n",
    "df.groupby('Age Group', observed=False)['Quality of Sleep'].mean()"
   ]
  },
  {
   "cell_type": "markdown",
   "id": "4751bfb4-2fc1-45e1-bff4-d11b792a1533",
   "metadata": {},
   "source": [
    "_______________________________________________________________________________________________________________________________________________________"
   ]
  },
  {
   "cell_type": "markdown",
   "id": "4bac9462-091f-4b82-9ddf-163e8ec49e9f",
   "metadata": {},
   "source": [
    "##### Average Stress Level by Occupation"
   ]
  },
  {
   "cell_type": "code",
   "execution_count": 11,
   "id": "a7bdb3a8-7748-4e1f-81d7-a5a35f518097",
   "metadata": {},
   "outputs": [
    {
     "data": {
      "text/plain": [
       "Occupation\n",
       "Sales Representative    8.000000\n",
       "Salesperson             7.000000\n",
       "Scientist               7.000000\n",
       "Doctor                  6.732394\n",
       "Software Engineer       6.000000\n",
       "Nurse                   5.547945\n",
       "Lawyer                  5.063830\n",
       "Manager                 5.000000\n",
       "Accountant              4.594595\n",
       "Teacher                 4.525000\n",
       "Engineer                3.888889\n",
       "Name: Stress Level, dtype: float64"
      ]
     },
     "execution_count": 11,
     "metadata": {},
     "output_type": "execute_result"
    }
   ],
   "source": [
    "#ממוצע רמת סטרס לפי עיסוק\n",
    "df.groupby('Occupation')['Stress Level'].mean().sort_values(ascending=False)"
   ]
  },
  {
   "cell_type": "markdown",
   "id": "a1dc3c2a-cd2e-4ae1-b551-20b44d0adb24",
   "metadata": {},
   "source": [
    "_______________________________________________________________________________________________________________________________________________________"
   ]
  },
  {
   "cell_type": "markdown",
   "id": "f6f17361-b46a-446b-bc77-17b0348bd7fb",
   "metadata": {},
   "source": [
    "##### Average Sleep Quality by BMI Category and Gender"
   ]
  },
  {
   "cell_type": "code",
   "execution_count": 12,
   "id": "b2672aba-a4f4-4cc7-95d0-f98430b219ad",
   "metadata": {},
   "outputs": [
    {
     "name": "stdout",
     "output_type": "stream",
     "text": [
      "Average Quality of Sleep by BMI Category and Gender:\n"
     ]
    },
    {
     "data": {
      "text/html": [
       "<div>\n",
       "<style scoped>\n",
       "    .dataframe tbody tr th:only-of-type {\n",
       "        vertical-align: middle;\n",
       "    }\n",
       "\n",
       "    .dataframe tbody tr th {\n",
       "        vertical-align: top;\n",
       "    }\n",
       "\n",
       "    .dataframe thead th {\n",
       "        text-align: right;\n",
       "    }\n",
       "</style>\n",
       "<table border=\"1\" class=\"dataframe\">\n",
       "  <thead>\n",
       "    <tr style=\"text-align: right;\">\n",
       "      <th>Gender</th>\n",
       "      <th>Female</th>\n",
       "      <th>Male</th>\n",
       "    </tr>\n",
       "    <tr>\n",
       "      <th>BMI Category</th>\n",
       "      <th></th>\n",
       "      <th></th>\n",
       "    </tr>\n",
       "  </thead>\n",
       "  <tbody>\n",
       "    <tr>\n",
       "      <th>Normal</th>\n",
       "      <td>8.282051</td>\n",
       "      <td>7.275362</td>\n",
       "    </tr>\n",
       "    <tr>\n",
       "      <th>Obese</th>\n",
       "      <td>7.000000</td>\n",
       "      <td>6.333333</td>\n",
       "    </tr>\n",
       "    <tr>\n",
       "      <th>Overweight</th>\n",
       "      <td>7.216981</td>\n",
       "      <td>6.095238</td>\n",
       "    </tr>\n",
       "  </tbody>\n",
       "</table>\n",
       "</div>"
      ],
      "text/plain": [
       "Gender          Female      Male\n",
       "BMI Category                    \n",
       "Normal        8.282051  7.275362\n",
       "Obese         7.000000  6.333333\n",
       "Overweight    7.216981  6.095238"
      ]
     },
     "metadata": {},
     "output_type": "display_data"
    }
   ],
   "source": [
    "#ניתוח מתקדם\n",
    "#ממוצע איכות שינה לפי קטגוריות BMI ולפי מין\n",
    "sleep_quality_bmi_gender = df.groupby(['BMI Category', 'Gender'])['Quality of Sleep'].mean().unstack()\n",
    "print(\"Average Quality of Sleep by BMI Category and Gender:\")\n",
    "display(sleep_quality_bmi_gender)"
   ]
  },
  {
   "cell_type": "markdown",
   "id": "be9ac46f-30e1-4ed3-94b5-353d29faae41",
   "metadata": {},
   "source": [
    "_______________________________________________________________________________________________________________________________________________________"
   ]
  },
  {
   "cell_type": "markdown",
   "id": "0951d916-fc5d-4c3e-918d-60d712eb525f",
   "metadata": {},
   "source": [
    "##### Average Stress Level by Sleep Disorder"
   ]
  },
  {
   "cell_type": "code",
   "execution_count": 13,
   "id": "5df86e5f-bbee-4441-a841-c3d19f6751bf",
   "metadata": {},
   "outputs": [
    {
     "name": "stdout",
     "output_type": "stream",
     "text": [
      "Average Stress Level by Sleep Disorder:\n"
     ]
    },
    {
     "data": {
      "text/plain": [
       "Sleep Disorder\n",
       "Insomnia       5.870130\n",
       "None           5.114155\n",
       "Sleep Apnea    5.666667\n",
       "Name: Stress Level, dtype: float64"
      ]
     },
     "metadata": {},
     "output_type": "display_data"
    }
   ],
   "source": [
    "#ניתוח מתקדם\n",
    "#ממוצע רמת סטרס לפי הפרעת שינה\n",
    "stress_sleep_disorder = df.groupby('Sleep Disorder')['Stress Level'].mean()\n",
    "print(\"Average Stress Level by Sleep Disorder:\")\n",
    "display(stress_sleep_disorder)"
   ]
  },
  {
   "cell_type": "markdown",
   "id": "d7c442d2-04a6-4070-a19c-650c5b175bd8",
   "metadata": {},
   "source": [
    "________________________________________________________________________________________________________________________________________________________"
   ]
  },
  {
   "cell_type": "markdown",
   "id": "c0dcb55e-e0fc-47a4-966b-13f92831a0ae",
   "metadata": {},
   "source": [
    "#### Is there a relationship between sleep duration and sleep quality?"
   ]
  },
  {
   "cell_type": "code",
   "execution_count": 14,
   "id": "048f4844-7fca-4f31-b0ae-890fe73fa725",
   "metadata": {},
   "outputs": [
    {
     "name": "stdout",
     "output_type": "stream",
     "text": [
      "Correlation between sleep duration and sleep quality: 0.88\n"
     ]
    }
   ],
   "source": [
    "correlation = df['Sleep Duration'].corr(df['Quality of Sleep'])\n",
    "print(f\"Correlation between sleep duration and sleep quality: {correlation:.2f}\")"
   ]
  },
  {
   "cell_type": "code",
   "execution_count": 15,
   "id": "642ca500-4f96-43ba-99a9-5c17404f8455",
   "metadata": {},
   "outputs": [
    {
     "data": {
      "image/png": "[encoded data removed]",
      "text/plain": [
       "<Figure size 800x600 with 1 Axes>"
      ]
     },
     "metadata": {},
     "output_type": "display_data"
    }
   ],
   "source": [
    "plt.figure(figsize=(8, 6))\n",
    "sb.scatterplot(data=df, x='Sleep Duration', y='Quality of Sleep')\n",
    "plt.title('Sleep Duration vs. Quality of Sleep')\n",
    "plt.xlabel('Sleep Duration (hours)')\n",
    "plt.ylabel('Sleep Quality (1–10)')\n",
    "plt.grid(True)\n",
    "plt.show()"
   ]
  },
  {
   "cell_type": "markdown",
   "id": "300830dd-5458-45ce-be03-ddc81b7c630f",
   "metadata": {},
   "source": [
    "##### There is a strong positive correlation (r = 0.88) between sleep duration and sleep quality, indicating that longer sleep is generally associated with better sleep quality."
   ]
  },
  {
   "cell_type": "markdown",
   "id": "23d2a357-696a-4d66-9b6d-cc0621cf9481",
   "metadata": {},
   "source": [
    "_______________________________________________________________________________________________________________________________________________________"
   ]
  },
  {
   "cell_type": "markdown",
   "id": "a5ff421e-44f6-47ce-9511-fb19050d3b30",
   "metadata": {},
   "source": [
    "#### Is there a relationship between stress levels and sleep quality?"
   ]
  },
  {
   "cell_type": "code",
   "execution_count": 16,
   "id": "4cb646c0-4889-42fb-acd6-9e374dbf3e0e",
   "metadata": {},
   "outputs": [
    {
     "data": {
      "text/html": [
       "<div>\n",
       "<style scoped>\n",
       "    .dataframe tbody tr th:only-of-type {\n",
       "        vertical-align: middle;\n",
       "    }\n",
       "\n",
       "    .dataframe tbody tr th {\n",
       "        vertical-align: top;\n",
       "    }\n",
       "\n",
       "    .dataframe thead th {\n",
       "        text-align: right;\n",
       "    }\n",
       "</style>\n",
       "<table border=\"1\" class=\"dataframe\">\n",
       "  <thead>\n",
       "    <tr style=\"text-align: right;\">\n",
       "      <th></th>\n",
       "      <th>Stress Level</th>\n",
       "      <th>Quality of Sleep</th>\n",
       "    </tr>\n",
       "  </thead>\n",
       "  <tbody>\n",
       "    <tr>\n",
       "      <th>0</th>\n",
       "      <td>3</td>\n",
       "      <td>8.971831</td>\n",
       "    </tr>\n",
       "    <tr>\n",
       "      <th>1</th>\n",
       "      <td>4</td>\n",
       "      <td>7.671429</td>\n",
       "    </tr>\n",
       "    <tr>\n",
       "      <th>2</th>\n",
       "      <td>5</td>\n",
       "      <td>7.895522</td>\n",
       "    </tr>\n",
       "    <tr>\n",
       "      <th>3</th>\n",
       "      <td>6</td>\n",
       "      <td>7.000000</td>\n",
       "    </tr>\n",
       "    <tr>\n",
       "      <th>4</th>\n",
       "      <td>7</td>\n",
       "      <td>6.000000</td>\n",
       "    </tr>\n",
       "    <tr>\n",
       "      <th>5</th>\n",
       "      <td>8</td>\n",
       "      <td>5.857143</td>\n",
       "    </tr>\n",
       "  </tbody>\n",
       "</table>\n",
       "</div>"
      ],
      "text/plain": [
       "   Stress Level  Quality of Sleep\n",
       "0             3          8.971831\n",
       "1             4          7.671429\n",
       "2             5          7.895522\n",
       "3             6          7.000000\n",
       "4             7          6.000000\n",
       "5             8          5.857143"
      ]
     },
     "metadata": {},
     "output_type": "display_data"
    }
   ],
   "source": [
    "# Group by stress level and calculate mean sleep quality\n",
    "stress_sleep = df.groupby('Stress Level')['Quality of Sleep'].mean().reset_index()\n",
    "display(stress_sleep)"
   ]
  },
  {
   "cell_type": "code",
   "execution_count": 17,
   "id": "61c6a011-db91-451a-bc61-4d775b715669",
   "metadata": {},
   "outputs": [
    {
     "data": {
      "image/png": "[encoded data removed]",
      "text/plain": [
       "<Figure size 800x600 with 1 Axes>"
      ]
     },
     "metadata": {},
     "output_type": "display_data"
    }
   ],
   "source": [
    "plt.figure(figsize=(8, 6))\n",
    "sb.barplot(data=stress_sleep, x='Stress Level', y='Quality of Sleep', color='skyblue')\n",
    "\n",
    "plt.title('Average Sleep Quality by Stress Level', fontsize=14)\n",
    "plt.xlabel('Stress Level (1 = Low, 10 = High)', fontsize=12)\n",
    "plt.ylabel('Average Quality of Sleep', fontsize=12)\n",
    "plt.grid(True, axis='y', linestyle='--', alpha=0.5)\n",
    "plt.tight_layout()\n",
    "plt.show()"
   ]
  },
  {
   "cell_type": "markdown",
   "id": "7295b094-6b1d-400b-a83b-02d931ff606d",
   "metadata": {},
   "source": [
    "##### There is a relationship between stress level and sleep quality: as stress level increases, sleep quality decreases."
   ]
  },
  {
   "cell_type": "markdown",
   "id": "35b6f75b-0bbc-4bc9-937a-67b7947a9b77",
   "metadata": {},
   "source": [
    "_______________________________________________________________________________________________________________________________________________________"
   ]
  },
  {
   "cell_type": "markdown",
   "id": "90833bf1-748c-4798-b611-41ac92bcab3a",
   "metadata": {},
   "source": [
    "#### Do people with higher physical activity levels suffer less from sleep disorders?"
   ]
  },
  {
   "cell_type": "code",
   "execution_count": 18,
   "id": "c358478a-f85a-4d22-afca-f5c2e8e06044",
   "metadata": {},
   "outputs": [
    {
     "name": "stdout",
     "output_type": "stream",
     "text": [
      "Sleep Disorder\n",
      "Insomnia       46.82\n",
      "None           57.95\n",
      "Sleep Apnea    74.79\n",
      "Name: Physical Activity Level, dtype: float64\n"
     ]
    }
   ],
   "source": [
    "activity_by_disorder = df.groupby('Sleep Disorder')['Physical Activity Level'].mean().round(2).fillna('None')\n",
    "print(activity_by_disorder)"
   ]
  },
  {
   "cell_type": "code",
   "execution_count": 19,
   "id": "b6331259-7d41-4257-b057-ad1fc857e6d2",
   "metadata": {},
   "outputs": [
    {
     "data": {
      "image/png": "[encoded data removed]",
      "text/plain": [
       "<Figure size 1000x600 with 1 Axes>"
      ]
     },
     "metadata": {},
     "output_type": "display_data"
    }
   ],
   "source": [
    "#יצירת קטגוריות של רמות פעילות גופנית(נמוכה, בינונית, גבוהה)\n",
    "bins = [0, 45, 90, 1000]\n",
    "labels = ['Low', 'Medium', 'High']\n",
    "df['activity_level_category'] = pd.cut(df['Physical Activity Level'], bins=bins, labels=labels, right=False)\n",
    "\n",
    "activity_sleep = df.groupby(['activity_level_category', 'Sleep Disorder'], observed=False).size().unstack(fill_value=0)\n",
    "\n",
    "activity_sleep['No Sleep Disorder'] = activity_sleep['None']\n",
    "\n",
    "activity_sleep[['Insomnia', 'Sleep Apnea', 'No Sleep Disorder']].plot(kind='barh', stacked=True, figsize=(10, 6))\n",
    "\n",
    "plt.title('Physical Activity Level vs Sleep Disorders')\n",
    "plt.xlabel('Number of People')\n",
    "plt.ylabel('Activity Level')\n",
    "plt.show()"
   ]
  },
  {
   "cell_type": "markdown",
   "id": "217a587b-0c04-4ec0-a1f2-94e76d9d95eb",
   "metadata": {},
   "source": [
    "##### The findings indicate that individuals with higher physical activity levels tend to experience fewer sleep disorders."
   ]
  },
  {
   "cell_type": "markdown",
   "id": "e630c7e9-53bc-4b63-93b9-cd7baf1efaf6",
   "metadata": {},
   "source": [
    "_______________________________________________________________________________________________________________________________________________________"
   ]
  },
  {
   "cell_type": "markdown",
   "id": "fbde0c1c-294b-4345-993d-331058cb536d",
   "metadata": {},
   "source": [
    "#### Is there a relationship between BMI category and type of sleep disorder (if any)?"
   ]
  },
  {
   "cell_type": "code",
   "execution_count": 22,
   "id": "590d7d97-7308-4036-acbf-0e9cc4044cbd",
   "metadata": {},
   "outputs": [
    {
     "name": "stdout",
     "output_type": "stream",
     "text": [
      "Sleep Disorder  Insomnia  None  Sleep Apnea\n",
      "BMI Category                               \n",
      "Normal                 9   200            7\n",
      "Overweight            64    19           65\n",
      "Obese                  4     0            6\n"
     ]
    }
   ],
   "source": [
    "bmi_order = ['Normal', 'Overweight', 'Obese']\n",
    "filtered_df = df[df['BMI Category'].isin(['Normal', 'Overweight', 'Obese'])]\n",
    "bmi_vs_disorder = pd.crosstab(filtered_df['BMI Category'], filtered_df['Sleep Disorder'])\n",
    "\n",
    "bmi_vs_disorder = bmi_vs_disorder.reindex(bmi_order)\n",
    "print(bmi_vs_disorder)"
   ]
  },
  {
   "cell_type": "code",
   "execution_count": 23,
   "id": "e4b65d85-5fb8-4e6a-bd0c-81d1bd05aa4c",
   "metadata": {},
   "outputs": [
    {
     "data": {
      "image/png": "[encoded data removed]",
      "text/plain": [
       "<Figure size 1000x600 with 1 Axes>"
      ]
     },
     "metadata": {},
     "output_type": "display_data"
    }
   ],
   "source": [
    "filtered_df = df[df['BMI Category'].isin(['Normal', 'Overweight', 'Obese'])]\n",
    "\n",
    "bmi_order = ['Normal', 'Overweight', 'Obese']\n",
    "\n",
    "plt.figure(figsize=(10,6))\n",
    "sb.countplot(data=filtered_df, x='Sleep Disorder', hue='BMI Category', hue_order=bmi_order, palette='Set2')\n",
    "\n",
    "plt.title('Distribution of Sleep Disorders by BMI Category (Excluding Underweight)', fontsize=16)\n",
    "plt.xlabel('Sleep Disorder')\n",
    "plt.ylabel('Number of Individuals')\n",
    "plt.legend(title='BMI Category')\n",
    "plt.tight_layout()\n",
    "plt.show()"
   ]
  },
  {
   "cell_type": "markdown",
   "id": "976ed283-567b-4796-83e4-ae8cc43cd6bc",
   "metadata": {},
   "source": [
    "##### Individuals with a normal BMI are significantly less likely to suffer from sleep disorders compared to those who are overweight or obese."
   ]
  },
  {
   "cell_type": "markdown",
   "id": "238bbd8a-a3bd-4385-84e9-706e2754b7e3",
   "metadata": {},
   "source": [
    "_______________________________________________________________________________________________________________________________________________________"
   ]
  },
  {
   "cell_type": "markdown",
   "id": "b63aaa89-325f-42c0-8710-9ac183cc25d4",
   "metadata": {},
   "source": [
    "#### Do heart rate and blood pressure affect sleep quality?"
   ]
  },
  {
   "cell_type": "code",
   "execution_count": 24,
   "id": "501e4b94-22a6-4e62-811e-56cc553ba5da",
   "metadata": {},
   "outputs": [
    {
     "name": "stdout",
     "output_type": "stream",
     "text": [
      "                  Heart Rate  Systolic BP\n",
      "Quality of Sleep   -0.659865    -0.121632\n"
     ]
    }
   ],
   "source": [
    "df[['Systolic', 'Diastolic']] = df['Blood Pressure'].str.split('/', expand=True)\n",
    "\n",
    "df['Systolic'] = pd.to_numeric(df['Systolic'], errors='coerce')\n",
    "\n",
    "heart_rate_sleep_corr = df[['Heart Rate', 'Quality of Sleep']].corr().iloc[0, 1]\n",
    "\n",
    "systolic_sleep_corr = df[['Systolic', 'Quality of Sleep']].corr().iloc[0, 1]\n",
    "\n",
    "correlation_results = pd.DataFrame({\n",
    "    'Heart Rate': [heart_rate_sleep_corr],\n",
    "    'Systolic BP': [systolic_sleep_corr]\n",
    "}, index=['Quality of Sleep'])\n",
    "print(correlation_results)"
   ]
  },
  {
   "cell_type": "code",
   "execution_count": 25,
   "id": "2e507dd7-ad58-44a8-b608-97b8cc804584",
   "metadata": {},
   "outputs": [
    {
     "data": {
      "image/png": "[encoded data removed]",
      "text/plain": [
       "<Figure size 800x600 with 2 Axes>"
      ]
     },
     "metadata": {},
     "output_type": "display_data"
    }
   ],
   "source": [
    "df[['Systolic', 'Diastolic']] = df['Blood Pressure'].str.split('/', expand=True)\n",
    "\n",
    "df['Systolic'] = pd.to_numeric(df['Systolic'], errors='coerce')\n",
    "\n",
    "corr_matrix = df[['Heart Rate', 'Systolic', 'Quality of Sleep']].corr()\n",
    "\n",
    "plt.figure(figsize=(8, 6))\n",
    "sb.heatmap(corr_matrix, annot=True, cmap='coolwarm', center=0, fmt=\".2f\", linewidths=0.5)\n",
    "\n",
    "plt.title('Correlation Heatmap: Heart Rate, Systolic BP, and Quality of Sleep')\n",
    "plt.show()"
   ]
  },
  {
   "cell_type": "markdown",
   "id": "93d4fa15-0233-438f-bb01-20b143ae06dd",
   "metadata": {},
   "source": [
    "##### There is a strong negative correlation between heart rate and sleep quality, meaning higher heart rate leads to lower sleep quality. The negative correlation between systolic blood pressure and sleep quality is weak, meaning there is no significant relationship between systolic blood pressure and sleep quality."
   ]
  },
  {
   "cell_type": "markdown",
   "id": "f8acbd89-883c-4149-8c30-7b1c932e6d03",
   "metadata": {},
   "source": [
    "_______________________________________________________________________________________________________________________________________________________"
   ]
  },
  {
   "cell_type": "markdown",
   "id": "63ec1f52-9f09-458f-980a-4e51b9f1c8e9",
   "metadata": {},
   "source": [
    "### Are there differences between males and females in sleep quality or sleep disorder frequency?"
   ]
  },
  {
   "cell_type": "code",
   "execution_count": 26,
   "id": "f243554e-550d-4774-91ae-7fc5eae514d3",
   "metadata": {},
   "outputs": [
    {
     "name": "stdout",
     "output_type": "stream",
     "text": [
      "Gender\n",
      "Female    7.664865\n",
      "Male      6.968254\n",
      "Name: Quality of Sleep, dtype: float64\n"
     ]
    }
   ],
   "source": [
    "sleep_by_gender = df.groupby('Gender')['Quality of Sleep'].mean()\n",
    "print(sleep_by_gender)"
   ]
  },
  {
   "cell_type": "code",
   "execution_count": 27,
   "id": "d2a8f406-8fde-47ca-a06f-46a7b5a49715",
   "metadata": {},
   "outputs": [
    {
     "data": {
      "image/png": "[encoded data removed]",
      "text/plain": [
       "<Figure size 1400x600 with 2 Axes>"
      ]
     },
     "metadata": {},
     "output_type": "display_data"
    }
   ],
   "source": [
    "df_female = df[df['Gender'] == 'Female']\n",
    "df_male = df[df['Gender'] == 'Male']\n",
    "\n",
    "sleep_disorder_female = df_female['Sleep Disorder'].value_counts()\n",
    "\n",
    "sleep_disorder_male = df_male['Sleep Disorder'].value_counts()\n",
    "\n",
    "fig, axes = plt.subplots(1, 2, figsize=(14, 6))\n",
    "\n",
    "axes[0].pie(sleep_disorder_female, labels=sleep_disorder_female.index, autopct='%1.1f%%', startangle=90)\n",
    "axes[0].set_title('Sleep Disorder Distribution (Female)')\n",
    "\n",
    "axes[1].pie(sleep_disorder_male, labels=sleep_disorder_male.index, autopct='%1.1f%%', startangle=90)\n",
    "axes[1].set_title('Sleep Disorder Distribution (Male)')\n",
    "\n",
    "plt.tight_layout()\n",
    "plt.show()"
   ]
  },
  {
   "cell_type": "markdown",
   "id": "14184ff6-7b9e-4548-a166-fd198d12b23f",
   "metadata": {},
   "source": [
    "##### There is a small difference in sleep quality between males and females, with females showing a slightly higher average. In addition, the distribution of sleep disorders is different: more females report no sleep disorder, while more males experience insomnia or sleep apnea.\n"
   ]
  },
  {
   "cell_type": "markdown",
   "id": "d422ff70-8edf-40f6-9337-41573fb2c330",
   "metadata": {},
   "source": [
    "_______________________________________________________________________________________________________________________________________________________"
   ]
  },
  {
   "cell_type": "markdown",
   "id": "5ec15163-62cd-4685-9842-3baa8979a9de",
   "metadata": {},
   "source": [
    "### Summary and Conclusions\n",
    "\n",
    "- There is a strong positive relationship between sleep duration and sleep quality: longer sleep is associated with better quality.\n",
    "- Higher stress levels are linked to lower sleep quality.\n",
    "- People with higher physical activity levels tend to experience fewer sleep disorders.\n",
    "- Individuals with a normal BMI are less likely to suffer from sleep disorders compared to those who are overweight or obese.\n",
    "- Heart rate has a negative correlation with sleep quality, while systolic blood pressure shows a weak correlation.\n",
    "- Females generally have slightly higher sleep quality compared to males, and the distribution of sleep disorders varies between genders.\n",
    "\n",
    "#### Business/Research Recommendations\n",
    "\n",
    "- Encouraging healthy sleep duration and stress management can help improve sleep quality.\n",
    "- Promoting physical activity may reduce sleep disorders in the population.\n",
    "- Monitoring BMI and promoting healthy weight could contribute to better sleep health.\n",
    "- Further research can explore additional factors that influence sleep health, such as diet or mental health.\n"
   ]
  }
 ],
 "metadata": {
  "kernelspec": {
   "display_name": "Python 3 (ipykernel)",
   "language": "python",
   "name": "python3"
  },
  "language_info": {
   "codemirror_mode": {
    "name": "ipython",
    "version": 3
   },
   "file_extension": ".py",
   "mimetype": "text/x-python",
   "name": "python",
   "nbconvert_exporter": "python",
   "pygments_lexer": "ipython3",
   "version": "3.13.2"
  }
 },
 "nbformat": 4,
 "nbformat_minor": 5
}
